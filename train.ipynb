{
 "cells": [
  {
   "cell_type": "code",
   "execution_count": 2,
   "metadata": {
    "collapsed": false,
    "deletable": true,
    "editable": true
   },
   "outputs": [],
   "source": [
    "import tensorflow as tf\n",
    "import simplejson\n",
    "import matplotlib.pyplot as plt\n",
    "%matplotlib inline\n",
    "import threading\n",
    "import tensorflow.contrib.slim as slim\n",
    "from utils import data_utils, train_utils\n",
    "import datetime\n",
    "import os\n",
    "import time"
   ]
  },
  {
   "cell_type": "code",
   "execution_count": 2,
   "metadata": {
    "collapsed": true
   },
   "outputs": [],
   "source": [
    "#input_data = train_utils.input_data(class_id=0, \n",
    "#                                    crop_per_img=1, reflection=True, train=True, crop_size=572, rotation=360)"
   ]
  },
  {
   "cell_type": "code",
   "execution_count": 3,
   "metadata": {
    "collapsed": true,
    "deletable": true,
    "editable": true
   },
   "outputs": [],
   "source": [
    "def argument_scope(H, phase):\n",
    "    '''\n",
    "    This returns the arg_scope for slim.arg_scope(), which defines the options for slim.functions\n",
    "    '''\n",
    "    padding = H['padding']\n",
    "    is_training = {'train': True, 'validate': False, 'test': False}[phase]\n",
    "    pool_kernel = [2, 2]\n",
    "    pool_stride = 2\n",
    "\n",
    "    \n",
    "    params = {\n",
    "        \"decay\": 0.997,\n",
    "        \"epsilon\": 0.001,\n",
    "    }\n",
    "\n",
    "    with slim.arg_scope([slim.conv2d], \n",
    "                        # slim.relu would raise an error here\n",
    "                        activation_fn=tf.nn.relu, \n",
    "                        padding=padding, \n",
    "                        normalizer_fn=slim.batch_norm, \n",
    "                        weights_initializer=tf.contrib.layers.variance_scaling_initializer()):\n",
    "        with slim.arg_scope([slim.batch_norm, slim.dropout], is_training=is_training):\n",
    "            with slim.arg_scope([slim.max_pool2d], stride=pool_stride, kernel_size=pool_kernel):\n",
    "                with slim.arg_scope([slim.conv2d_transpose], \n",
    "                                    activation_fn=None, \n",
    "                                    padding=padding, \n",
    "                                    weights_initializer=tf.contrib.layers.variance_scaling_initializer()) as sc:\n",
    "                    return sc"
   ]
  },
  {
   "cell_type": "code",
   "execution_count": 4,
   "metadata": {
    "collapsed": false,
    "deletable": true,
    "editable": true
   },
   "outputs": [],
   "source": [
    "def build_pred(x_in, H, phase):\n",
    "    '''\n",
    "    This function builds the prediction model\n",
    "    '''\n",
    "    num_class = H['num_class']\n",
    "    \n",
    "    conv_kernel_1 = [1, 1]\n",
    "    conv_kernel_3 = [3, 3]\n",
    "    pool_kernel = [2, 2]\n",
    "    pool_stride = 2\n",
    "\n",
    "    early_feature = {}\n",
    "    reuse = {'train': False, 'validate': True, 'test': False}[phase]\n",
    "    \n",
    "    with slim.arg_scope(argument_scope(H, phase)):\n",
    "        \n",
    "        scope_name = 'block_1'\n",
    "        x_input = x_in\n",
    "        num_outputs = 64\n",
    "        with tf.variable_scope(scope_name, reuse = reuse):\n",
    "            layer_1 = slim.conv2d(x_input, num_outputs, conv_kernel_3, scope='conv1')\n",
    "            layer_2 = slim.conv2d(layer_1, num_outputs, conv_kernel_3, scope='conv2')\n",
    "            early_feature[scope_name] = layer_2\n",
    "        \n",
    "        scope_name = 'block_2'\n",
    "        x_input = slim.max_pool2d(layer_2)\n",
    "        num_outputs = 128\n",
    "        with tf.variable_scope(scope_name, reuse = reuse):\n",
    "            layer_1 = slim.conv2d(x_input, num_outputs, conv_kernel_3, scope='conv1')\n",
    "            layer_2 = slim.conv2d(layer_1, num_outputs, conv_kernel_3, scope='conv2')\n",
    "            early_feature[scope_name] = layer_2\n",
    "\n",
    "        scope_name = 'block_3'\n",
    "        x_input = slim.max_pool2d(layer_2)\n",
    "        num_outputs = 256\n",
    "        with tf.variable_scope(scope_name, reuse = reuse):\n",
    "            layer_1 = slim.conv2d(x_input, num_outputs, conv_kernel_3, scope='conv1')\n",
    "            layer_2 = slim.conv2d(layer_1, num_outputs, conv_kernel_3, scope='conv2')\n",
    "            early_feature[scope_name] = layer_2\n",
    "            \n",
    "        scope_name = 'block_4'\n",
    "        x_input = slim.max_pool2d(layer_2)\n",
    "        num_outputs = 512\n",
    "        with tf.variable_scope(scope_name, reuse = reuse):\n",
    "            layer_1 = slim.conv2d(x_input, num_outputs, conv_kernel_3, scope='conv1')\n",
    "            layer_2 = slim.conv2d(layer_1, num_outputs, conv_kernel_3, scope='conv2')\n",
    "            early_feature[scope_name] = layer_2\n",
    "\n",
    "        scope_name = 'block_5'\n",
    "        x_input = slim.max_pool2d(layer_2)\n",
    "        num_outputs = 1024\n",
    "        with tf.variable_scope(scope_name, reuse = reuse):\n",
    "            layer_1 = slim.conv2d(x_input, num_outputs, conv_kernel_3, scope='conv1')\n",
    "            layer_2 = slim.conv2d(layer_1, num_outputs, conv_kernel_3, scope='conv2')\n",
    "            early_feature[scope_name] = layer_2\n",
    "            \n",
    "        scope_name = 'block_6'\n",
    "        num_outputs = 512\n",
    "        with tf.variable_scope(scope_name, reuse = reuse):\n",
    "            trans_layer = slim.conv2d_transpose(\n",
    "                layer_2, num_outputs, pool_kernel, pool_stride, scope='conv_trans')\n",
    "            x_input = tf.concat([early_feature['block_4'], trans_layer], axis=3)\n",
    "            layer_1 = slim.conv2d(x_input, num_outputs, conv_kernel_3, scope='conv1')\n",
    "            layer_2 = slim.conv2d(layer_1, num_outputs, conv_kernel_3, scope='conv2')\n",
    "            \n",
    "        scope_name = 'block_7'\n",
    "        num_outputs = 256\n",
    "        with tf.variable_scope(scope_name, reuse = reuse):\n",
    "            trans_layer = slim.conv2d_transpose(\n",
    "                layer_2, num_outputs, pool_kernel, pool_stride, scope='conv_trans')\n",
    "            x_input = tf.concat([early_feature['block_3'], trans_layer], axis=3)\n",
    "            layer_1 = slim.conv2d(x_input, num_outputs, conv_kernel_3, scope='conv1')\n",
    "            layer_2 = slim.conv2d(layer_1, num_outputs, conv_kernel_3, scope='conv2')\n",
    "            \n",
    "        scope_name = 'block_8'\n",
    "        num_outputs = 128\n",
    "        with tf.variable_scope(scope_name, reuse = reuse):\n",
    "            trans_layer = slim.conv2d_transpose(\n",
    "                layer_2, num_outputs, pool_kernel, pool_stride, scope='conv_trans')\n",
    "            x_input = tf.concat([early_feature['block_2'], trans_layer], axis=3)\n",
    "            layer_1 = slim.conv2d(x_input, num_outputs, conv_kernel_3, scope='conv1')\n",
    "            layer_2 = slim.conv2d(layer_1, num_outputs, conv_kernel_3, scope='conv2')\n",
    "        \n",
    "        scope_name = 'block_9'\n",
    "        num_outputs = 64\n",
    "        with tf.variable_scope(scope_name, reuse = reuse):\n",
    "            trans_layer = slim.conv2d_transpose(\n",
    "                layer_2, num_outputs, pool_kernel, pool_stride, scope='conv_trans')\n",
    "            x_input = tf.concat([early_feature['block_1'], trans_layer], axis=3)\n",
    "            layer_1 = slim.conv2d(x_input, num_outputs, conv_kernel_3, scope='conv1')\n",
    "            layer_2 = slim.conv2d(layer_1, num_outputs, conv_kernel_3, scope='conv2')\n",
    "        \n",
    "        scope_name = 'pred'\n",
    "        with tf.variable_scope(scope_name, reuse = reuse):\n",
    "            layer_1 = slim.conv2d(layer_2, num_class, conv_kernel_1, scope='conv1')\n",
    "        pred = tf.argmax(tf.nn.softmax(logits=layer_1), axis=3)\n",
    "        return layer_1, pred"
   ]
  },
  {
   "cell_type": "code",
   "execution_count": 5,
   "metadata": {
    "collapsed": false,
    "deletable": true,
    "editable": true
   },
   "outputs": [],
   "source": [
    "def build_loss(x_in, y_in, H, phase):\n",
    "    '''\n",
    "    This function builds the loss and accuracy\n",
    "    '''\n",
    "    im_width = H['im_width']\n",
    "    im_height = H['im_height']\n",
    "    batch_size = H['batch_size']\n",
    "    start_ind = H['start_ind']\n",
    "    valid_size = H['valid_size']\n",
    "    \n",
    "    y_crop = tf.cast(tf.slice(y_in, begin=[0, start_ind, start_ind], size=[-1, valid_size, valid_size]), tf.int32)\n",
    "    \n",
    "    logits, pred = build_pred(x_in, H, phase)\n",
    "    \n",
    "    logits_crop = tf.slice(logits, \n",
    "                         begin=[0, start_ind, start_ind, 0], \n",
    "                         size=[-1, valid_size, valid_size, -1])\n",
    "    if H['loss_function'] == 'cross_entropy':\n",
    "        loss = tf.reduce_mean(tf.nn.sparse_softmax_cross_entropy_with_logits(labels=y_crop, logits=logits_crop))\n",
    "    elif H['loss_function'] == 'jaccard':\n",
    "        pass \n",
    "    pred_crop = tf.cast(tf.slice(pred, begin=[0, start_ind, start_ind], size=[-1, valid_size, valid_size]), tf.int32)\n",
    "    accuracy = tf.reduce_mean(tf.cast(tf.equal(pred_crop, y_crop), tf.int32))\n",
    "    \n",
    "    return loss, accuracy"
   ]
  },
  {
   "cell_type": "code",
   "execution_count": 6,
   "metadata": {
    "collapsed": false,
    "deletable": true,
    "editable": true
   },
   "outputs": [],
   "source": [
    "def build(queues, H):\n",
    "    '''\n",
    "    This function returns the train operation, summary, global step\n",
    "    '''\n",
    "    im_width = H['im_width']\n",
    "    im_height = H['im_height']\n",
    "    num_class = H['num_class']\n",
    "    num_channel = H['num_channel']\n",
    "    batch_size = H['batch_size']\n",
    "    log_dir = H['log_dir']\n",
    "    norm_threshold = H['norm_threshold']\n",
    "    \n",
    "    loss, accuracy = {}, {}\n",
    "    for phase in ['train', 'validate']:\n",
    "        x_in, y_in = queues[phase].dequeue_many(batch_size)\n",
    "        loss[phase], accuracy[phase] = build_loss(x_in, y_in, H, phase)\n",
    "    \n",
    "    learning_rate = tf.placeholder(dtype=tf.float32)\n",
    "    opt = tf.train.AdamOptimizer(learning_rate=learning_rate)\n",
    "    global_step = tf.Variable(0, trainable=False)\n",
    "    tvars = tf.trainable_variables()\n",
    "    grads= tf.gradients(loss['train'], tvars)\n",
    "    grads, norm = tf.clip_by_global_norm(grads, norm_threshold)\n",
    "    update_ops = tf.get_collection(tf.GraphKeys.UPDATE_OPS)\n",
    "    with tf.control_dependencies(update_ops):\n",
    "        train_op = opt.apply_gradients(zip(grads, tvars), global_step = global_step)\n",
    "    \n",
    "    \n",
    "    for phase in ['train', 'validate']:\n",
    "        tf.summary.scalar(name=phase + '/loss', tensor=loss[phase])\n",
    "        tf.summary.scalar(name=phase + '/loss', tensor=loss[phase])\n",
    "    summary_op = tf.summary.merge_all()\n",
    "    return loss, accuracy, train_op, summary_op, learning_rate, global_step"
   ]
  },
  {
   "cell_type": "code",
   "execution_count": 7,
   "metadata": {
    "collapsed": false,
    "deletable": true,
    "editable": true
   },
   "outputs": [],
   "source": [
    "hypes = './hypes/hypes.json'\n",
    "with open(hypes, 'r') as f:\n",
    "    H = simplejson.load(f)\n",
    "    im_width = H['im_width']\n",
    "    im_height = H['im_height']\n",
    "    num_class = H['num_class']\n",
    "    num_channel = H['num_channel']\n",
    "    queue_size = H['queue_size']\n",
    "    save_iter = H['save_iter']\n",
    "    print_iter = H['print_iter']\n",
    "    class_type = H['class_type']\n",
    "    train_iter = H['train_iter']\n",
    "    lr = H['lr']\n",
    "    lr_decay_iter = H['lr_decay_iter']\n",
    "    log_dir = H['log_dir']\n",
    "    batch_size = H['batch_size']"
   ]
  },
  {
   "cell_type": "code",
   "execution_count": 8,
   "metadata": {
    "collapsed": false,
    "deletable": true,
    "editable": true
   },
   "outputs": [],
   "source": [
    "def enqueue_thread(sess, data_gen, coord, phase, enqueue_op):\n",
    "    while not coord.should_stop():\n",
    "        img, label = data_gen.next()\n",
    "        sess.run(enqueue_op, feed_dict={x_in[phase]: img, y_in[phase]: label})"
   ]
  },
  {
   "cell_type": "code",
   "execution_count": 9,
   "metadata": {
    "collapsed": false,
    "deletable": true,
    "editable": true
   },
   "outputs": [],
   "source": [
    "x_in, y_in, queues, enqueue_op = {}, {}, {}, {}\n",
    "shape = ((im_width, im_height, num_channel), \n",
    "         (im_width, im_height))\n",
    "for phase in ['train', 'validate']:\n",
    "    x_in[phase] = tf.placeholder(dtype=tf.float32)\n",
    "    y_in[phase] = tf.placeholder(dtype=tf.float32)\n",
    "    queues[phase] = tf.FIFOQueue(capacity=queue_size, shapes=shape, dtypes=(tf.float32,tf.float32))\n",
    "    enqueue_op[phase] = queues[phase].enqueue_many([x_in[phase], y_in[phase]])"
   ]
  },
  {
   "cell_type": "code",
   "execution_count": 10,
   "metadata": {
    "collapsed": false,
    "deletable": true,
    "editable": true
   },
   "outputs": [
    {
     "name": "stderr",
     "output_type": "stream",
     "text": [
      "utils/data_utils.py:647: RuntimeWarning: divide by zero encountered in divide\n",
      "  evi = (nir - image_r) / (nir + C1 * image_r - C2 * image_b + L)\n"
     ]
    },
    {
     "name": "stdout",
     "output_type": "stream",
     "text": [
      "Loading training data: [======                ] 27%"
     ]
    },
    {
     "name": "stderr",
     "output_type": "stream",
     "text": [
      "utils/data_utils.py:647: RuntimeWarning: invalid value encountered in divide\n",
      "  evi = (nir - image_r) / (nir + C1 * image_r - C2 * image_b + L)\n"
     ]
    },
    {
     "name": "stdout",
     "output_type": "stream",
     "text": [
      "Loading training data: [======================] 100%\n",
      "Loading validation data: [=] 100%\n"
     ]
    }
   ],
   "source": [
    "loss, accuracy, train_op, summary_op, learning_rate, global_step = build(queues, H)\n",
    "data_gen = {}\n",
    "for phase in ['train', 'validate']:\n",
    "    is_train = {'train': True, 'validate': False}[phase]\n",
    "    data_gen[phase] = train_utils.input_data(crop_per_img=1, class_id=class_type, reflection=True,\n",
    "                                             rotation=360, train=is_train, crop_size=im_width)\n",
    "    # Run the generator once to make sure the data is loaded into the memory\n",
    "    # This will take a few minutes\n",
    "    data_gen[phase].next()"
   ]
  },
  {
   "cell_type": "code",
   "execution_count": null,
   "metadata": {
    "collapsed": false,
    "deletable": true,
    "editable": true
   },
   "outputs": [
    {
     "name": "stdout",
     "output_type": "stream",
     "text": [
      "Global step (1): LR: 0.00500Train loss 0.82;Train accuracy 0%;Validate loss 66.69;Validate accuracy 0%;Time / image: 0.0ms\n",
      "\n",
      "WARNING:tensorflow:Error encountered when serializing LAYER_NAME_UIDS.\n",
      "Type is unsupported, or the types of the items don't match field type in CollectionDef.\n",
      "'dict' object has no attribute 'name'\n",
      "Global step (11): LR: 0.00500Train loss 0.47;Train accuracy 0%;Validate loss 195226812416.00;Validate accuracy 0%;Time / image: 1844.6ms\n",
      "\n",
      "Global step (21): LR: 0.00500Train loss 0.25;Train accuracy 0%;Validate loss 169099739136.00;Validate accuracy 0%;Time / image: 763.5ms\n",
      "\n",
      "Global step (31): LR: 0.00500Train loss 0.28;Train accuracy 0%;Validate loss 206400421888.00;Validate accuracy 0%;Time / image: 761.4ms\n",
      "\n",
      "Global step (41): LR: 0.00500Train loss 0.20;Train accuracy 0%;Validate loss 51376627712.00;Validate accuracy 0%;Time / image: 760.7ms\n",
      "\n",
      "Global step (4171): LR: 0.00125Train loss 0.34;Train accuracy 0%;Validate loss 1.10;Validate accuracy 0%;Time / image: 757.2ms\n",
      "\n",
      "Global step (4181): LR: 0.00125Train loss 0.31;Train accuracy 0%;Validate loss 1.05;Validate accuracy 0%;Time / image: 756.9ms\n",
      "\n",
      "Global step (4191): LR: 0.00125Train loss 0.03;Train accuracy 100%;Validate loss 1.15;Validate accuracy 0%;Time / image: 757.7ms\n",
      "\n",
      "Global step (4201): LR: 0.00125Train loss 0.24;Train accuracy 0%;Validate loss 0.94;Validate accuracy 0%;Time / image: 757.1ms\n",
      "\n",
      "WARNING:tensorflow:Error encountered when serializing LAYER_NAME_UIDS.\n",
      "Type is unsupported, or the types of the items don't match field type in CollectionDef.\n",
      "'dict' object has no attribute 'name'\n",
      "Global step (4211): LR: 0.00125Train loss 0.06;Train accuracy 0%;Validate loss 1.10;Validate accuracy 0%;Time / image: 779.1ms\n",
      "\n",
      "Global step (4221): LR: 0.00125Train loss 0.03;Train accuracy 100%;Validate loss 1.17;Validate accuracy 0%;Time / image: 758.2ms\n",
      "\n",
      "Global step (4231): LR: 0.00125Train loss 0.39;Train accuracy 0%;Validate loss 1.07;Validate accuracy 0%;Time / image: 758.8ms\n",
      "\n",
      "Global step (4241): LR: 0.00125Train loss 0.03;Train accuracy 100%;Validate loss 1.06;Validate accuracy 0%;Time / image: 757.9ms\n",
      "\n",
      "Global step (4251): LR: 0.00125Train loss 0.30;Train accuracy 0%;Validate loss 1.22;Validate accuracy 0%;Time / image: 758.7ms\n",
      "\n",
      "Global step (4261): LR: 0.00125Train loss 0.27;Train accuracy 0%;Validate loss 1.22;Validate accuracy 0%;Time / image: 758.9ms\n",
      "\n",
      "Global step (4271): LR: 0.00125Train loss 0.06;Train accuracy 0%;Validate loss 1.51;Validate accuracy 0%;Time / image: 757.1ms\n",
      "\n"
     ]
    }
   ],
   "source": [
    "config = tf.ConfigProto()\n",
    "config.gpu_options.allow_growth = True\n",
    "coord = tf.train.Coordinator()\n",
    "threads = {}\n",
    "saver = tf.train.Saver()\n",
    "\n",
    "with tf.Session(config=config).as_default() as sess:\n",
    "    summary_writer = tf.summary.FileWriter(logdir = os.path.join(log_dir, 'summary'), flush_secs = 10)\n",
    "    summary_writer.add_graph(sess.graph)\n",
    "    for phase in ['train', 'validate']:\n",
    "        \n",
    "        threads[phase] = threading.Thread(\n",
    "            target=enqueue_thread, \n",
    "            args=(sess, data_gen[phase], coord, phase, enqueue_op[phase]))\n",
    "        threads[phase].start()\n",
    "        \n",
    "    sess.run(tf.global_variables_initializer())\n",
    "    start = time.time()\n",
    "    for step in xrange(train_iter):\n",
    "        if step % lr_decay_iter == 0:\n",
    "            lr *= 0.5\n",
    "        \n",
    "        if step % print_iter == 0:\n",
    "            dt = (time.time() - start) / batch_size / print_iter\n",
    "            start = time.time()\n",
    "            train_loss, train_accuracy, validate_loss, validate_accuracy, summaries, _ = \\\n",
    "            sess.run([loss['train'], accuracy['train'], loss['validate'], accuracy['validate'], summary_op, train_op],\n",
    "                    feed_dict = {learning_rate: lr})\n",
    "            summary_writer.add_summary(summaries, global_step = global_step.eval())\n",
    "            str0 = 'Global step ({0}): LR: {1:0.5f}'.format(global_step.eval(), lr)\n",
    "            str1 = 'Train loss {0:.2f};'.format(train_loss)\n",
    "            str2 = 'Train accuracy {}%;'.format(int(100 * train_accuracy))\n",
    "            str3 = 'Validate loss {0:.2f};'.format(validate_loss)\n",
    "            str4 = 'Validate accuracy {}%;'.format(int(100 * validate_accuracy))\n",
    "            str5 = 'Time / image: {0:0.1f}ms'.format(1000 * dt if step else 0)\n",
    "            print str0 + str1 + str2 + str3 + str4 + str5 + '\\n'\n",
    "        else:\n",
    "            sess.run([train_op, loss['train']], feed_dict = {learning_rate: lr})\n",
    "        \n",
    "        if step % save_iter == 0:\n",
    "            now = datetime.datetime.now()\n",
    "            path = os.path.join(log_dir, 'ckpt','_'.join(map(str, [now.month, now.day, now.hour, now.minute])))\n",
    "            if not os.path.exists(path):\n",
    "                os.makedirs(path)\n",
    "            saver.save(sess, path, global_step = global_step)\n"
   ]
  },
  {
   "cell_type": "code",
   "execution_count": null,
   "metadata": {
    "collapsed": true,
    "deletable": true,
    "editable": true
   },
   "outputs": [],
   "source": [
    "coord.requst_stop()\n",
    "coord.join()"
   ]
  }
 ],
 "metadata": {
  "kernelspec": {
   "display_name": "Python 2",
   "language": "python",
   "name": "python2"
  },
  "language_info": {
   "codemirror_mode": {
    "name": "ipython",
    "version": 2
   },
   "file_extension": ".py",
   "mimetype": "text/x-python",
   "name": "python",
   "nbconvert_exporter": "python",
   "pygments_lexer": "ipython2",
   "version": "2.7.13"
  }
 },
 "nbformat": 4,
 "nbformat_minor": 2
}
